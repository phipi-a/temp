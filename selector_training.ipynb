{
  "nbformat": 4,
  "nbformat_minor": 0,
  "metadata": {
    "colab": {
      "name": "selector_training.ipynb",
      "provenance": [],
      "collapsed_sections": [
        "haCGArAINT-8"
      ],
      "toc_visible": true,
      "mount_file_id": "1YO53JnyWtkYScVIrugfsasmf4e4fxOss",
      "authorship_tag": "ABX9TyNd06GrB8Pyb48fVoqqrTkq",
      "include_colab_link": true
    },
    "kernelspec": {
      "name": "python3",
      "display_name": "Python 3"
    }
  },
  "cells": [
    {
      "cell_type": "markdown",
      "metadata": {
        "id": "view-in-github",
        "colab_type": "text"
      },
      "source": [
        "<a href=\"https://colab.research.google.com/github/phipi-a/tu-berlin-aal/blob/master/selector_training.ipynb\" target=\"_parent\"><img src=\"https://colab.research.google.com/assets/colab-badge.svg\" alt=\"Open In Colab\"/></a>"
      ]
    },
    {
      "cell_type": "markdown",
      "metadata": {
        "id": "vc2a6qBx606C"
      },
      "source": [
        "[![Open In Colab](https://colab.research.google.com/assets/colab-badge.svg)](https://colab.research.google.com/github/googlecolab/colabtools/blob/master/notebooks/colab-github-demo.ipynb)\n",
        "https://gitlab-edu.aot.tu-berlin.de/ws20-aal/group-1/-/blob/eingabeanalyse/nn-training/eingabeanalyse/nn-training/device_selector_training.ipynb\n"
      ]
    },
    {
      "cell_type": "markdown",
      "metadata": {
        "id": "Zq3EFiNnOr7z"
      },
      "source": [
        "#import, load spacy model"
      ]
    },
    {
      "cell_type": "code",
      "metadata": {
        "id": "KE7k7ImNMpw-",
        "colab": {
          "base_uri": "https://localhost:8080/"
        },
        "outputId": "46691085-8485-4c2f-f4a9-f6a0c0a898f1"
      },
      "source": [
        "!pip install spacy==2.3.5"
      ],
      "execution_count": null,
      "outputs": [
        {
          "output_type": "stream",
          "text": [
            "Requirement already satisfied: spacy==2.3.5 in /usr/local/lib/python3.6/dist-packages (2.3.5)\n",
            "Requirement already satisfied: setuptools in /usr/local/lib/python3.6/dist-packages (from spacy==2.3.5) (53.0.0)\n",
            "Requirement already satisfied: cymem<2.1.0,>=2.0.2 in /usr/local/lib/python3.6/dist-packages (from spacy==2.3.5) (2.0.5)\n",
            "Requirement already satisfied: requests<3.0.0,>=2.13.0 in /usr/local/lib/python3.6/dist-packages (from spacy==2.3.5) (2.23.0)\n",
            "Requirement already satisfied: thinc<7.5.0,>=7.4.1 in /usr/local/lib/python3.6/dist-packages (from spacy==2.3.5) (7.4.5)\n",
            "Requirement already satisfied: blis<0.8.0,>=0.4.0 in /usr/local/lib/python3.6/dist-packages (from spacy==2.3.5) (0.4.1)\n",
            "Requirement already satisfied: catalogue<1.1.0,>=0.0.7 in /usr/local/lib/python3.6/dist-packages (from spacy==2.3.5) (1.0.0)\n",
            "Requirement already satisfied: srsly<1.1.0,>=1.0.2 in /usr/local/lib/python3.6/dist-packages (from spacy==2.3.5) (1.0.5)\n",
            "Requirement already satisfied: plac<1.2.0,>=0.9.6 in /usr/local/lib/python3.6/dist-packages (from spacy==2.3.5) (1.1.3)\n",
            "Requirement already satisfied: preshed<3.1.0,>=3.0.2 in /usr/local/lib/python3.6/dist-packages (from spacy==2.3.5) (3.0.5)\n",
            "Requirement already satisfied: murmurhash<1.1.0,>=0.28.0 in /usr/local/lib/python3.6/dist-packages (from spacy==2.3.5) (1.0.5)\n",
            "Requirement already satisfied: wasabi<1.1.0,>=0.4.0 in /usr/local/lib/python3.6/dist-packages (from spacy==2.3.5) (0.8.2)\n",
            "Requirement already satisfied: numpy>=1.15.0 in /usr/local/lib/python3.6/dist-packages (from spacy==2.3.5) (1.19.5)\n",
            "Requirement already satisfied: tqdm<5.0.0,>=4.38.0 in /usr/local/lib/python3.6/dist-packages (from spacy==2.3.5) (4.41.1)\n",
            "Requirement already satisfied: certifi>=2017.4.17 in /usr/local/lib/python3.6/dist-packages (from requests<3.0.0,>=2.13.0->spacy==2.3.5) (2020.12.5)\n",
            "Requirement already satisfied: urllib3!=1.25.0,!=1.25.1,<1.26,>=1.21.1 in /usr/local/lib/python3.6/dist-packages (from requests<3.0.0,>=2.13.0->spacy==2.3.5) (1.24.3)\n",
            "Requirement already satisfied: idna<3,>=2.5 in /usr/local/lib/python3.6/dist-packages (from requests<3.0.0,>=2.13.0->spacy==2.3.5) (2.10)\n",
            "Requirement already satisfied: chardet<4,>=3.0.2 in /usr/local/lib/python3.6/dist-packages (from requests<3.0.0,>=2.13.0->spacy==2.3.5) (3.0.4)\n",
            "Requirement already satisfied: importlib-metadata>=0.20; python_version < \"3.8\" in /usr/local/lib/python3.6/dist-packages (from catalogue<1.1.0,>=0.0.7->spacy==2.3.5) (3.4.0)\n",
            "Requirement already satisfied: zipp>=0.5 in /usr/local/lib/python3.6/dist-packages (from importlib-metadata>=0.20; python_version < \"3.8\"->catalogue<1.1.0,>=0.0.7->spacy==2.3.5) (3.4.0)\n",
            "Requirement already satisfied: typing-extensions>=3.6.4; python_version < \"3.8\" in /usr/local/lib/python3.6/dist-packages (from importlib-metadata>=0.20; python_version < \"3.8\"->catalogue<1.1.0,>=0.0.7->spacy==2.3.5) (3.7.4.3)\n"
          ],
          "name": "stdout"
        }
      ]
    },
    {
      "cell_type": "code",
      "metadata": {
        "colab": {
          "base_uri": "https://localhost:8080/"
        },
        "id": "1cZePEhfpOnW",
        "outputId": "41e89f15-4a5f-48a0-b7c1-1ad0faef5aee"
      },
      "source": [
        "!pip install cyhunspell"
      ],
      "execution_count": null,
      "outputs": [
        {
          "output_type": "stream",
          "text": [
            "Requirement already satisfied: cyhunspell in /usr/local/lib/python3.6/dist-packages (2.0.2)\n",
            "Requirement already satisfied: cacheman>=2.0.6 in /usr/local/lib/python3.6/dist-packages (from cyhunspell) (2.1.0)\n",
            "Requirement already satisfied: psutil>=2.1.0 in /usr/local/lib/python3.6/dist-packages (from cacheman>=2.0.6->cyhunspell) (5.4.8)\n",
            "Requirement already satisfied: six>=1.10.0 in /usr/local/lib/python3.6/dist-packages (from cacheman>=2.0.6->cyhunspell) (1.15.0)\n",
            "Requirement already satisfied: future>=0.16.0 in /usr/local/lib/python3.6/dist-packages (from cacheman>=2.0.6->cyhunspell) (0.16.0)\n"
          ],
          "name": "stdout"
        }
      ]
    },
    {
      "cell_type": "code",
      "metadata": {
        "id": "qpKy1hioUU3W"
      },
      "source": [
        "import numpy as np\n",
        "import matplotlib.pyplot as plt\n",
        "from tensorflow.keras.models import Sequential\n",
        "from tensorflow.keras.layers import LSTM, Dense, Conv1D, GlobalMaxPooling1D, Dropout, Input, MaxPooling1D, Flatten, Bidirectional, GRU, BatchNormalization ,SimpleRNN, RNN\n",
        "from tensorflow.keras.optimizers import Adam\n",
        "from tensorflow.keras.utils import plot_model, to_categorical\n",
        "from tensorflow.keras import losses\n",
        "from tensorflow.keras import backend as K\n",
        "import spacy\n",
        "import re\n",
        "from sklearn.model_selection import train_test_split\n",
        "from tensorflow import keras\n",
        "from hunspell import Hunspell\n",
        "import tensorflow as tf\n",
        "import random\n",
        "import json\n",
        "import os\n",
        "import sys\n",
        "import zipfile\n",
        "import shutil\n",
        "import glob\n",
        "from sklearn.utils import class_weight as cw"
      ],
      "execution_count": null,
      "outputs": []
    },
    {
      "cell_type": "code",
      "metadata": {
        "id": "7QAEIT1CLxoU"
      },
      "source": [
        "try:\n",
        "    nlp_german = spacy.load('de_core_news_lg')\n",
        "except OSError:\n",
        "    print('Downloading language model\\n')\n",
        "    from spacy.cli import download\n",
        "    download('de_core_news_lg')\n",
        "    nlp_german = spacy.load('de_core_news_lg')"
      ],
      "execution_count": null,
      "outputs": []
    },
    {
      "cell_type": "markdown",
      "metadata": {
        "id": "pZoeA8-YwKPM"
      },
      "source": [
        "# load data"
      ]
    },
    {
      "cell_type": "code",
      "metadata": {
        "id": "EoAFK5Ckn2uC"
      },
      "source": [
        "def one_hot_encoding(l, ncl):\n",
        "    t = np.zeros(ncl)\n",
        "    t[l] = 1\n",
        "    return t\n",
        "\n",
        "\n",
        "def listToIndexLookup(actions):\n",
        "    ret = {}\n",
        "    for idx, action in enumerate(actions):\n",
        "        ret[action] = idx\n",
        "    return ret"
      ],
      "execution_count": null,
      "outputs": []
    },
    {
      "cell_type": "code",
      "metadata": {
        "id": "IqMW-cjXwBlt"
      },
      "source": [
        "dir_of_datasets=\"/content/drive/MyDrive/aal/action_selector/\"\n",
        "hunspell = Hunspell(\"de_DE\", hunspell_data_dir=\"/content/drive/MyDrive/aal/res\")"
      ],
      "execution_count": null,
      "outputs": []
    },
    {
      "cell_type": "code",
      "metadata": {
        "id": "1KsTHLioPHji"
      },
      "source": [
        "with open(\"/content/drive/MyDrive/aal/res/spacy_missing_vectors.json\") as jf:\n",
        "    data_v=json.load(jf)\n",
        "    nlp_german.vocab.vectors.resize((500000+len(data_v), 300))\n",
        "    for word in data_v:\n",
        "      if word[\"missing_word\"]==\"\":\n",
        "        continue\n",
        "      nlp_german.vocab.vectors.add(word[\"missing_word\"],vector=nlp_german.vocab.get_vector(nlp_german.vocab.strings[word[\"matching_word\"]]))"
      ],
      "execution_count": null,
      "outputs": []
    },
    {
      "cell_type": "code",
      "metadata": {
        "id": "9QyB_-YcgOXn"
      },
      "source": [
        "directions_of_datasets=glob.glob(dir_of_datasets+\"*.zip\")\n",
        "config_file_dirs=list()\n",
        "for zipfile_dir in directions_of_datasets:\n",
        "  try:\n",
        "    shutil.rmtree(zipfile_dir.replace(\".zip\",\"\"))\n",
        "  except FileNotFoundError:\n",
        "    pass\n",
        "  os.mkdir(zipfile_dir.replace(\".zip\",\"\"))\n",
        "  shutil.unpack_archive(zipfile_dir, zipfile_dir.replace(\".zip\",\"\"))\n",
        "  config_file_dirs.append(zipfile_dir.replace(\".zip\",\"\")+\"/config.json\")"
      ],
      "execution_count": null,
      "outputs": []
    },
    {
      "cell_type": "code",
      "metadata": {
        "id": "-_cVhKM4RJ_A"
      },
      "source": [
        "def load_config(file_dirs):\n",
        "  spacy_version=None\n",
        "  language_model=None\n",
        "  POS_LOOKUP=None\n",
        "  x_vector_length=None\n",
        "  Y_VALUE_LOOKUP=None\n",
        "  for file_path in file_dirs:\n",
        "    print(\"open config file:\",file_path)\n",
        "    with open(file_path) as json_file:\n",
        "        data = json.load(json_file)\n",
        "        if spacy_version ==None:\n",
        "          spacy_version=data[\"spacy\"][\"spacy_version\"]\n",
        "          if spacy.__version__==spacy_version:\n",
        "            print(\"spacy_version: ok\")\n",
        "          else:\n",
        "            print(\"incorrect spacy version loaded\")\n",
        "            exit()\n",
        "          language_model = data[\"spacy\"][\"language_model\"]\n",
        "          print(\"language_model: \"+language_model)\n",
        "          POS_LOOKUP = listToIndexLookup(data[\"spacy\"][\"valid_pos_tags\"])\n",
        "          x_vector_length = nlp_german.vocab.vectors_length + np.sum([len(a[\"elements\"]) for a in data[\"x\"][\"element_vector_additional_content\"]]) + len(data[\"spacy\"][\"valid_pos_tags\"])\n",
        "          ADD_CONTENT_LOOKUP = {}\n",
        "          for add_content in data[\"x\"][\"element_vector_additional_content\"]:\n",
        "              ADD_CONTENT_LOOKUP[add_content[\"element_json_name\"]] = listToIndexLookup(add_content[\"elements\"])\n",
        "          Y_VALUE_LOOKUP = listToIndexLookup(data[\"y\"][\"elements\"])\n",
        "          \n",
        "        else:\n",
        "          if spacy_version!=data[\"spacy\"][\"spacy_version\"]:\n",
        "            print(\"spacy_version not compatibel\")\n",
        "            return(False)\n",
        "          if language_model!=data[\"spacy\"][\"language_model\"]:\n",
        "            print(\"language_model not compatibel\")\n",
        "            return(False)\n",
        "          if POS_LOOKUP!=listToIndexLookup(data[\"spacy\"][\"valid_pos_tags\"]):\n",
        "            print(\"POS_LOOKUP not compatibel\")\n",
        "            return(False)\n",
        "          if x_vector_length!=nlp_german.vocab.vectors_length + np.sum([len(a[\"elements\"]) for a in data[\"x\"][\"element_vector_additional_content\"]]) + len(data[\"spacy\"][\"valid_pos_tags\"]):\n",
        "            print(\"x_vector_length not compatibel\")\n",
        "            return(False)\n",
        "          if Y_VALUE_LOOKUP!=listToIndexLookup(data[\"y\"][\"elements\"]):\n",
        "            print(\"Y_VALUE_LOOKUP not compatibel\")\n",
        "            return(False)\n",
        "  return True"
      ],
      "execution_count": null,
      "outputs": []
    },
    {
      "cell_type": "code",
      "metadata": {
        "colab": {
          "base_uri": "https://localhost:8080/"
        },
        "id": "yzj_9iglnBJk",
        "outputId": "e237c8d2-85e5-4c8e-b9b4-e070b4beff98"
      },
      "source": [
        "print(config_file_dirs)\n",
        "if load_config(config_file_dirs):\n",
        "  with open(config_file_dirs[0]) as json_file:\n",
        "          data = json.load(json_file)\n",
        "          X_VECTOR_LENGTH=nlp_german.vocab.vectors_length + np.sum([len(a[\"elements\"]) for a in data[\"x\"][\"element_vector_additional_content\"]]) + len(data[\"spacy\"][\"valid_pos_tags\"])\n",
        "          POS_LOOKUP=listToIndexLookup(data[\"spacy\"][\"valid_pos_tags\"])\n",
        "          Y_VALUE_LOOKUP=listToIndexLookup(data[\"y\"][\"elements\"])\n",
        "          Y_VALUE_LOOKUP=listToIndexLookup(data[\"y\"][\"elements\"])\n",
        "          ADD_CONTENT_LOOKUP = {}\n",
        "          for add_content in data[\"x\"][\"element_vector_additional_content\"]:\n",
        "              ADD_CONTENT_LOOKUP[add_content[\"element_json_name\"]] = listToIndexLookup(add_content[\"elements\"])\n",
        "          print(\"datasets: ok\")"
      ],
      "execution_count": null,
      "outputs": [
        {
          "output_type": "stream",
          "text": [
            "['/content/drive/MyDrive/aal/action_selector/device_selector_dataset_from_actions/config.json']\n",
            "open config file: /content/drive/MyDrive/aal/action_selector/device_selector_dataset_from_actions/config.json\n",
            "spacy_version: ok\n",
            "language_model: de_core_news_lg\n",
            "datasets: ok\n"
          ],
          "name": "stdout"
        }
      ]
    },
    {
      "cell_type": "code",
      "metadata": {
        "id": "GbWfbmCxwU4Z"
      },
      "source": [
        "Xdata = np.concatenate([np.load(a.replace(\"config.json\",\"x_data.npy\")) for a in config_file_dirs])\n",
        "Ydata = np.concatenate([np.load(a.replace(\"config.json\",\"y_data.npy\")) for a in config_file_dirs])"
      ],
      "execution_count": null,
      "outputs": []
    },
    {
      "cell_type": "markdown",
      "metadata": {
        "id": "haCGArAINT-8"
      },
      "source": [
        "#Definitions"
      ]
    },
    {
      "cell_type": "code",
      "metadata": {
        "id": "2UOBiRZul5Di"
      },
      "source": [
        "def check(word):\n",
        "    old_word = word\n",
        "    if nlp_german.vocab.has_vector(word):\n",
        "        return word\n",
        "    if nlp_german.vocab.has_vector(word.capitalize()):\n",
        "        return word.capitalize()\n",
        "    if word.strip() == \"\":\n",
        "        return \"\"\n",
        "\n",
        "    if not hunspell.spell(word):\n",
        "        word_suggest = hunspell.suggest(word)\n",
        "        if len(word_suggest) == 0:\n",
        "            return old_word\n",
        "        word = word_suggest[0]\n",
        "\n",
        "    if nlp_german.vocab.has_vector(word):\n",
        "        return word\n",
        "    if nlp_german.vocab.has_vector(word.capitalize()):\n",
        "        return word.capitalize()\n",
        "\n",
        "    hunspell_analysis = hunspell.analyze(word)\n",
        "\n",
        "    if len(hunspell_analysis) == 0:\n",
        "        if not nlp_german.vocab.has_vector(word):\n",
        "            return old_word\n",
        "        return word\n",
        "    hunspell_analysis = hunspell_analysis[0]\n",
        "\n",
        "    stam_list = re.findall(\" [A-Za-zÀ-ž\\u0370-\\u03FF\\u0400-\\u04FF]*:[A-Za-zÀ-ž\\u0370-\\u03FF\\u0400-\\u04FF]*\", hunspell_analysis)\n",
        "\n",
        "    for stam in stam_list:\n",
        "        stam_string = stam.split(\":\")[1]\n",
        "        if len(stam_string) >= 3:\n",
        "            parts = re.split(stam_string, word, flags=re.IGNORECASE)\n",
        "            if len(parts) == 0 or len(parts) == 1 and len(parts[0]) == len(word):\n",
        "                continue\n",
        "            if not hunspell.spell(stam_string):\n",
        "                stam_string = hunspell.suggest(stam_string)[0]\n",
        "            return (check(parts[0]) + \" \" + stam_string + \" \" + check(parts[1])).strip()\n",
        "    return word\n",
        "\n"
      ],
      "execution_count": null,
      "outputs": []
    },
    {
      "cell_type": "code",
      "metadata": {
        "id": "YrLM1EozEpm2"
      },
      "source": [
        "\n",
        "def string_preprocessing(sentence):\n",
        "    sentence=sentence.lower()\n",
        "    missing_words_after_check = list()\n",
        "    word_list = sentence.replace(\".\", \"\").replace(\"!\", \"\").replace(\"?\", \" \").replace(\",\", \" \").split(\" \")\n",
        "    new_text = \"\"\n",
        "    for word in word_list:\n",
        "        if word == \"\":\n",
        "            continue\n",
        "        try:\n",
        "            new_word = check(word)\n",
        "        except UnicodeEncodeError as e:\n",
        "            print(word)\n",
        "            print(\"json_unicode_encode_error_error\")\n",
        "        new_text = new_text + \" \" + new_word\n",
        "        for x in new_word.split(\" \"):\n",
        "            if not nlp_german.vocab.has_vector(x):\n",
        "                missing_words_after_check.append(word)\n",
        "                print(sentence)\n",
        "    return missing_words_after_check,new_text.strip()"
      ],
      "execution_count": null,
      "outputs": []
    },
    {
      "cell_type": "code",
      "metadata": {
        "id": "ff-OaR-bpjbZ"
      },
      "source": [
        "def processSample(sample):\n",
        "    _,new_input = string_preprocessing(sample[data[\"x\"][\"element_json_name\"]])\n",
        "    doc = nlp_german(new_input)\n",
        "\n",
        "    if len(doc) > data[\"x\"][\"maxword_length\"]:\n",
        "        return False, None, None\n",
        "\n",
        "    sample_x = np.empty(shape=[0, int(X_VECTOR_LENGTH)])\n",
        "    for tag in doc:\n",
        "        if tag.pos_ in data[\"spacy\"][\"forbidden_pos_tags\"]:\n",
        "            continue\n",
        "\n",
        "        lemma_tag = nlp_german(tag.lemma_)[0]\n",
        "\n",
        "        pos = one_hot_encoding(POS_LOOKUP[tag.pos_], len(data[\"spacy\"][\"valid_pos_tags\"]))\n",
        "        if not lemma_tag.has_vector:\n",
        "            if tag.has_vector:\n",
        "                lemma_tag=tag\n",
        "            else:\n",
        "                print(tag)\n",
        "        t = np.concatenate([lemma_tag.vector, pos])\n",
        "        for add_content in data[\"x\"][\"element_vector_additional_content\"]:\n",
        "            add_content_vector = one_hot_encoding(\n",
        "                ADD_CONTENT_LOOKUP[add_content[\"element_json_name\"]][sample[add_content[\"element_json_name\"]]],\n",
        "                len(add_content[\"elements\"]))\n",
        "            t = np.append(t, add_content_vector)\n",
        "\n",
        "        sample_x = np.append(sample_x, [t], axis=0)\n",
        "            # fill up rest\n",
        "    while len(sample_x) < data[\"x\"][\"maxword_length\"]:\n",
        "        sample_x = np.append(sample_x, [np.zeros(int(X_VECTOR_LENGTH))], axis=0)\n",
        "\n",
        "    return True, sample_x\n"
      ],
      "execution_count": null,
      "outputs": []
    },
    {
      "cell_type": "code",
      "metadata": {
        "id": "ykFxl5KpuQTe"
      },
      "source": [
        "# your class labels\n",
        "classes = list(Y_VALUE_LOOKUP.keys())\n",
        "\n",
        "class AccuracyCallback(tf.keras.callbacks.Callback):\n",
        "\n",
        "    def __init__(self, test_data):\n",
        "        self.test_data = test_data\n",
        "        self.class_history = list()\n",
        "        for i in classes:\n",
        "           self.class_history.append(list())\n",
        "        self.accuracy = []\n",
        "        self.val_accuracy = []\n",
        "\n",
        "    def on_batch_end(self, batch, logs={}):\n",
        "        self.accuracy.append(logs.get('accuracy'))\n",
        "        self.val_accuracy.append(logs.get('val_accuracy'))\n",
        "\n",
        "    def on_epoch_end(self, epoch, logs=None):\n",
        "        x_data, y_data = self.test_data\n",
        "\n",
        "        correct = 0\n",
        "        incorrect = 0\n",
        "\n",
        "        x_result = self.model.predict(x_data, verbose=0)\n",
        "\n",
        "        x_numpy = []\n",
        "\n",
        "        class_correct = [0] * len(classes)\n",
        "        class_incorrect = [0] * len(classes)\n",
        "\n",
        "        for i in range(len(x_data)):\n",
        "            x = x_data[i]\n",
        "            y = y_data[i]\n",
        "\n",
        "            res = x_result[i]\n",
        "\n",
        "            actual_label = np.argmax(y)\n",
        "            pred_label = np.argmax(res)\n",
        "\n",
        "            if(pred_label == actual_label):\n",
        "                x_numpy.append([\"cor:\", str(y), str(res), str(pred_label)])     \n",
        "                class_correct[actual_label] += 1   \n",
        "                correct += 1\n",
        "            else:\n",
        "                x_numpy.append([\"inc:\", str(y), str(res), str(pred_label)])\n",
        "                class_incorrect[actual_label] += 1\n",
        "                incorrect += 1\n",
        "\n",
        "        print(\"\\tCorrect: %d\" %(correct))\n",
        "        print(\"\\tIncorrect: %d\" %(incorrect))\n",
        "\n",
        "        for i in range(len(classes)):\n",
        "            tot = float(class_correct[i] + class_incorrect[i])\n",
        "            class_acc = -1\n",
        "            if (tot > 0):\n",
        "                class_acc = float(class_correct[i]) / tot\n",
        "            self.class_history[i].append(class_acc)\n",
        "            print(\"\\t%s: %.3f\" %(classes[i],class_acc)) \n",
        "\n",
        "        acc = float(correct) / float(correct + incorrect)  \n",
        "\n",
        "        print(\"\\tCurrent Network Accuracy: %.3f\" %(acc))"
      ],
      "execution_count": null,
      "outputs": []
    },
    {
      "cell_type": "markdown",
      "metadata": {
        "id": "z_uvwkRvNoqP"
      },
      "source": [
        "#prepare training"
      ]
    },
    {
      "cell_type": "code",
      "metadata": {
        "id": "l9xDHaShCOhf",
        "colab": {
          "base_uri": "https://localhost:8080/"
        },
        "outputId": "c84f61b8-01f9-4780-aa52-34cb3cb6a617"
      },
      "source": [
        "class_weightkit = cw.compute_class_weight('balanced',\n",
        "                                                 np.unique(Ydata),\n",
        "                                                 Ydata)\n",
        "print(np.unique(Ydata))\n",
        "print(class_weightkit)\n",
        "class_weight = {0: class_weightkit[0],\n",
        "                1: class_weightkit[1],\n",
        "                2: class_weightkit[2],\n",
        "                3: class_weightkit[3],\n",
        "                4: class_weightkit[4],\n",
        "                5: class_weightkit[5],\n",
        "                6: class_weightkit[6],\n",
        "                7: class_weightkit[7],\n",
        "                8: class_weightkit[8],\n",
        "                9: class_weightkit[9],\n",
        "                10: class_weightkit[10],\n",
        "                11: class_weightkit[11],\n",
        "                12: class_weightkit[12],\n",
        "                13: class_weightkit[13],\n",
        "                14: class_weightkit[14],\n",
        "                15: class_weightkit[15],\n",
        "                16: class_weightkit[16],\n",
        "                17: class_weightkit[17]}\n",
        "print(class_weight)"
      ],
      "execution_count": null,
      "outputs": [
        {
          "output_type": "stream",
          "text": [
            "[ 0.  1.  2.  3.  4.  5.  6.  7.  8.  9. 10. 11. 12. 13. 14. 15. 16. 17.]\n",
            "[ 0.70240089  1.37396243  3.59018265  1.09258294  1.87202381  0.52142916\n",
            "  1.08298898  0.91597495  8.35325365  0.96799015 11.91287879  0.28460251\n",
            "  0.42728076  2.66751484  0.82970584  0.72099954 14.36073059 16.64021164]\n",
            "{0: 0.7024008933556672, 1: 1.3739624290083006, 2: 3.5901826484018264, 3: 1.0925829425047768, 4: 1.8720238095238095, 5: 0.5214291635579872, 6: 1.0829889807162534, 7: 0.9159749526722004, 8: 8.353253652058433, 9: 0.9679901508156356, 10: 11.912878787878787, 11: 0.28460250667390613, 12: 0.42728075538346577, 13: 2.6675148430873623, 14: 0.8297058435562591, 15: 0.7209995414947272, 16: 14.360730593607306, 17: 16.64021164021164}\n"
          ],
          "name": "stdout"
        }
      ]
    },
    {
      "cell_type": "code",
      "metadata": {
        "id": "KpCJdynnIV2t"
      },
      "source": [
        ""
      ],
      "execution_count": null,
      "outputs": []
    },
    {
      "cell_type": "markdown",
      "metadata": {
        "id": "0k59KGJkPkxi"
      },
      "source": [
        "###to_categorical train-test split"
      ]
    },
    {
      "cell_type": "code",
      "metadata": {
        "id": "zRy2_1YyzxT2",
        "colab": {
          "base_uri": "https://localhost:8080/"
        },
        "outputId": "faf257f6-0847-4441-a7fd-3118cedf4af2"
      },
      "source": [
        "i=100\n",
        "print(\"Ydata value: \",Ydata[i])\n",
        "Y_cat=keras.utils.to_categorical(Ydata,len(Y_VALUE_LOOKUP))\n",
        "print(\"Ydata to_categorical value: \",Y_cat[i])\n",
        "trainx, testx, trainy, testy = train_test_split(Xdata, Y_cat, test_size=0.33, random_state=42)"
      ],
      "execution_count": null,
      "outputs": [
        {
          "output_type": "stream",
          "text": [
            "Ydata value:  12.0\n",
            "Ydata to_categorical value:  [0. 0. 0. 0. 0. 0. 0. 0. 0. 0. 0. 0. 1. 0. 0. 0. 0. 0.]\n"
          ],
          "name": "stdout"
        }
      ]
    },
    {
      "cell_type": "markdown",
      "metadata": {
        "id": "dQpEZXqNNys6"
      },
      "source": [
        "#Define Model"
      ]
    },
    {
      "cell_type": "code",
      "metadata": {
        "id": "tuL_ZPENhH2w",
        "colab": {
          "base_uri": "https://localhost:8080/",
          "height": 663
        },
        "outputId": "8aba9616-aab3-46a1-a932-2e6e0bb694e3"
      },
      "source": [
        "model = Sequential()\n",
        "model.add(Input(shape=(20, 300+20)))\n",
        "model.add(Bidirectional(GRU(20,return_sequences=True,dropout=0.2)))\n",
        "model.add(Bidirectional(LSTM(20,dropout=0.2)))\n",
        "model.add(Dense(18,activation=\"softmax\"))\n",
        "model.build()\n",
        "model.compile(\n",
        "    optimizer=Adam(),\n",
        "    loss=losses.categorical_crossentropy,metrics=['accuracy'])\n",
        " \n",
        "model.summary()\n",
        "plot_model(model)"
      ],
      "execution_count": null,
      "outputs": [
        {
          "output_type": "stream",
          "text": [
            "Model: \"sequential\"\n",
            "_________________________________________________________________\n",
            "Layer (type)                 Output Shape              Param #   \n",
            "=================================================================\n",
            "bidirectional (Bidirectional (None, 20, 40)            41040     \n",
            "_________________________________________________________________\n",
            "bidirectional_1 (Bidirection (None, 40)                9760      \n",
            "_________________________________________________________________\n",
            "dense (Dense)                (None, 18)                738       \n",
            "=================================================================\n",
            "Total params: 51,538\n",
            "Trainable params: 51,538\n",
            "Non-trainable params: 0\n",
            "_________________________________________________________________\n"
          ],
          "name": "stdout"
        },
        {
          "output_type": "execute_result",
          "data": {
            "image/png": "[encoded data removed]",
            "text/plain": [
              "<IPython.core.display.Image object>"
            ]
          },
          "metadata": {
            "tags": []
          },
          "execution_count": 18
        }
      ]
    },
    {
      "cell_type": "markdown",
      "metadata": {
        "id": "p0-cOY3TN2ZX"
      },
      "source": [
        "#Training\n"
      ]
    },
    {
      "cell_type": "code",
      "metadata": {
        "id": "UaQ8APWRFWq9"
      },
      "source": [
        "def augmentate(X_point):\n",
        "  return X_point+np.random.normal(0,5,6340).reshape((20,317))\n",
        "\n"
      ],
      "execution_count": null,
      "outputs": []
    },
    {
      "cell_type": "code",
      "metadata": {
        "id": "DOv_A7we-UNi"
      },
      "source": [
        "def generator(X_data, y_data, batch_size):\n",
        "\n",
        "  samples_per_epoch = X_data.shape[0]\n",
        "  number_of_batches = samples_per_epoch/batch_size\n",
        "  counter=0\n",
        "\n",
        "  while 1:\n",
        "\n",
        "    X_batch = np.array(X_data[batch_size*counter:batch_size*(counter+1)])\n",
        "    y_batch = np.array(y_data[batch_size*counter:batch_size*(counter+1)]).astype('float32')\n",
        "    counter += 1\n",
        "    yield X_batch,y_batch\n",
        "\n",
        "    #restart counter to yeild data in the next epoch as well\n",
        "    if counter >= number_of_batches:\n",
        "        counter = 0"
      ],
      "execution_count": null,
      "outputs": []
    },
    {
      "cell_type": "code",
      "metadata": {
        "id": "Tzw1F7AWEIRx",
        "colab": {
          "base_uri": "https://localhost:8080/",
          "height": 229
        },
        "outputId": "0f05838b-2396-4b9b-fc24-c708a0ee0fb3"
      },
      "source": [
        "val_data=(np.asarray(testx),np.asarray(testy))\n",
        "accuracy_callback = AccuracyCallback(val_data)\n",
        "batch_size=512\n",
        "history=model.fit_generator(generator(trainx, trainy, batch_size),steps_per_epoch = trainx.shape[0]/batch_size,epochs=30,callbacks=[accuracy_callback],shuffle=True,class_weight=class_weight,validation_data=val_data)"
      ],
      "execution_count": null,
      "outputs": [
        {
          "output_type": "error",
          "ename": "NameError",
          "evalue": "ignored",
          "traceback": [
            "\u001b[0;31m---------------------------------------------------------------------------\u001b[0m",
            "\u001b[0;31mNameError\u001b[0m                                 Traceback (most recent call last)",
            "\u001b[0;32m<ipython-input-20-9f5dd90b4c86>\u001b[0m in \u001b[0;36m<module>\u001b[0;34m()\u001b[0m\n\u001b[1;32m      2\u001b[0m \u001b[0maccuracy_callback\u001b[0m \u001b[0;34m=\u001b[0m \u001b[0mAccuracyCallback\u001b[0m\u001b[0;34m(\u001b[0m\u001b[0mval_data\u001b[0m\u001b[0;34m)\u001b[0m\u001b[0;34m\u001b[0m\u001b[0;34m\u001b[0m\u001b[0m\n\u001b[1;32m      3\u001b[0m \u001b[0mbatch_size\u001b[0m\u001b[0;34m=\u001b[0m\u001b[0;36m512\u001b[0m\u001b[0;34m\u001b[0m\u001b[0;34m\u001b[0m\u001b[0m\n\u001b[0;32m----> 4\u001b[0;31m \u001b[0mhistory\u001b[0m\u001b[0;34m=\u001b[0m\u001b[0mmodel\u001b[0m\u001b[0;34m.\u001b[0m\u001b[0mfit_generator\u001b[0m\u001b[0;34m(\u001b[0m\u001b[0mgenerator\u001b[0m\u001b[0;34m(\u001b[0m\u001b[0mtrainx\u001b[0m\u001b[0;34m,\u001b[0m \u001b[0mtrainy\u001b[0m\u001b[0;34m,\u001b[0m \u001b[0mbatch_size\u001b[0m\u001b[0;34m)\u001b[0m\u001b[0;34m,\u001b[0m\u001b[0msteps_per_epoch\u001b[0m \u001b[0;34m=\u001b[0m \u001b[0mtrainx\u001b[0m\u001b[0;34m.\u001b[0m\u001b[0mshape\u001b[0m\u001b[0;34m[\u001b[0m\u001b[0;36m0\u001b[0m\u001b[0;34m]\u001b[0m\u001b[0;34m/\u001b[0m\u001b[0mbatch_size\u001b[0m\u001b[0;34m,\u001b[0m\u001b[0mepochs\u001b[0m\u001b[0;34m=\u001b[0m\u001b[0;36m30\u001b[0m\u001b[0;34m,\u001b[0m\u001b[0mcallbacks\u001b[0m\u001b[0;34m=\u001b[0m\u001b[0;34m[\u001b[0m\u001b[0maccuracy_callback\u001b[0m\u001b[0;34m]\u001b[0m\u001b[0;34m,\u001b[0m\u001b[0mshuffle\u001b[0m\u001b[0;34m=\u001b[0m\u001b[0;32mTrue\u001b[0m\u001b[0;34m,\u001b[0m\u001b[0mclass_weight\u001b[0m\u001b[0;34m=\u001b[0m\u001b[0mclass_weight\u001b[0m\u001b[0;34m,\u001b[0m\u001b[0mvalidation_data\u001b[0m\u001b[0;34m=\u001b[0m\u001b[0mval_data\u001b[0m\u001b[0;34m)\u001b[0m\u001b[0;34m\u001b[0m\u001b[0;34m\u001b[0m\u001b[0m\n\u001b[0m",
            "\u001b[0;31mNameError\u001b[0m: name 'generator' is not defined"
          ]
        }
      ]
    },
    {
      "cell_type": "code",
      "metadata": {
        "colab": {
          "base_uri": "https://localhost:8080/"
        },
        "id": "xJ1xcrh3g5dl",
        "outputId": "eb4443a4-3ba9-4a16-a39e-5903410d90ec"
      },
      "source": [
        "len(trainx)"
      ],
      "execution_count": null,
      "outputs": [
        {
          "output_type": "execute_result",
          "data": {
            "text/plain": [
              "25285"
            ]
          },
          "metadata": {
            "tags": []
          },
          "execution_count": 21
        }
      ]
    },
    {
      "cell_type": "code",
      "metadata": {
        "id": "Izcq9yVThRuQ",
        "colab": {
          "base_uri": "https://localhost:8080/"
        },
        "outputId": "a3692292-aaa9-4ea1-b018-04ec6450519e"
      },
      "source": [
        "val_data=(np.asarray(testx),np.asarray(testy))\n",
        "accuracy_callback = AccuracyCallback(val_data)\n",
        "history=model.fit(callbacks=[accuracy_callback],x=np.asarray(trainx),y=np.asarray(trainy),batch_size=25285,epochs=100,shuffle=True,class_weight=class_weight,validation_data=val_data)"
      ],
      "execution_count": null,
      "outputs": [
        {
          "output_type": "stream",
          "text": [
            "Epoch 1/100\n",
            "1/1 [==============================] - 33s 33s/step - loss: 2.9349 - accuracy: 0.0564 - val_loss: 2.8622 - val_accuracy: 0.0953\n",
            "\tCorrect: 1187\n",
            "\tIncorrect: 11268\n",
            "\tlatte macchiato: 0.059\n",
            "\thot milk: 0.061\n",
            "\tfoam milk: 0.148\n",
            "\ttea & hot water: 0.005\n",
            "\tespresso: 0.064\n",
            "\tgrill: 0.004\n",
            "\tmachine care: 0.012\n",
            "\tcold milk: 0.005\n",
            "\tbread baking program: 0.010\n",
            "\tupper and lower heating: 0.000\n",
            "\tpizza program: 0.222\n",
            "\tcoffee: 0.045\n",
            "\tupper heating: 0.471\n",
            "\tpreheat: 0.054\n",
            "\tlower heating: 0.069\n",
            "\tair circulation: 0.061\n",
            "\tkeepwarm: 0.000\n",
            "\thumiditycontrol: 0.070\n",
            "\tCurrent Network Accuracy: 0.095\n",
            "Epoch 2/100\n",
            "1/1 [==============================] - 17s 17s/step - loss: 2.9030 - accuracy: 0.0816 - val_loss: 2.8225 - val_accuracy: 0.1395\n",
            "\tCorrect: 1737\n",
            "\tIncorrect: 10718\n",
            "\tlatte macchiato: 0.057\n",
            "\thot milk: 0.101\n",
            "\tfoam milk: 0.203\n",
            "\ttea & hot water: 0.049\n",
            "\tespresso: 0.067\n",
            "\tgrill: 0.043\n",
            "\tmachine care: 0.032\n",
            "\tcold milk: 0.005\n",
            "\tbread baking program: 0.010\n",
            "\tupper and lower heating: 0.000\n",
            "\tpizza program: 0.200\n",
            "\tcoffee: 0.085\n",
            "\tupper heating: 0.576\n",
            "\tpreheat: 0.265\n",
            "\tlower heating: 0.086\n",
            "\tair circulation: 0.143\n",
            "\tkeepwarm: 0.000\n",
            "\thumiditycontrol: 0.209\n",
            "\tCurrent Network Accuracy: 0.139\n",
            "Epoch 3/100\n",
            "1/1 [==============================] - 15s 15s/step - loss: 2.8710 - accuracy: 0.1116 - val_loss: 2.7917 - val_accuracy: 0.1658\n",
            "\tCorrect: 2065\n",
            "\tIncorrect: 10390\n",
            "\tlatte macchiato: 0.056\n",
            "\thot milk: 0.124\n",
            "\tfoam milk: 0.269\n",
            "\ttea & hot water: 0.117\n",
            "\tespresso: 0.058\n",
            "\tgrill: 0.056\n",
            "\tmachine care: 0.052\n",
            "\tcold milk: 0.003\n",
            "\tbread baking program: 0.010\n",
            "\tupper and lower heating: 0.003\n",
            "\tpizza program: 0.244\n",
            "\tcoffee: 0.124\n",
            "\tupper heating: 0.575\n",
            "\tpreheat: 0.385\n",
            "\tlower heating: 0.104\n",
            "\tair circulation: 0.237\n",
            "\tkeepwarm: 0.000\n",
            "\thumiditycontrol: 0.233\n",
            "\tCurrent Network Accuracy: 0.166\n",
            "Epoch 4/100\n",
            "1/1 [==============================] - 16s 16s/step - loss: 2.8452 - accuracy: 0.1347 - val_loss: 2.7659 - val_accuracy: 0.1975\n",
            "\tCorrect: 2460\n",
            "\tIncorrect: 9995\n",
            "\tlatte macchiato: 0.048\n",
            "\thot milk: 0.185\n",
            "\tfoam milk: 0.418\n",
            "\ttea & hot water: 0.179\n",
            "\tespresso: 0.037\n",
            "\tgrill: 0.059\n",
            "\tmachine care: 0.086\n",
            "\tcold milk: 0.013\n",
            "\tbread baking program: 0.021\n",
            "\tupper and lower heating: 0.006\n",
            "\tpizza program: 0.267\n",
            "\tcoffee: 0.177\n",
            "\tupper heating: 0.558\n",
            "\tpreheat: 0.546\n",
            "\tlower heating: 0.122\n",
            "\tair circulation: 0.352\n",
            "\tkeepwarm: 0.000\n",
            "\thumiditycontrol: 0.302\n",
            "\tCurrent Network Accuracy: 0.198\n",
            "Epoch 5/100\n"
          ],
          "name": "stdout"
        }
      ]
    },
    {
      "cell_type": "code",
      "metadata": {
        "colab": {
          "base_uri": "https://localhost:8080/",
          "height": 271
        },
        "id": "urckMP98C0dN",
        "outputId": "1dd9f30d-70cf-472a-dbb5-44d47e60ab97"
      },
      "source": [
        "\n",
        "z={}\n",
        "Y_VALUE=list(Y_VALUE_LOOKUP.keys())\n",
        "for k,h in enumerate(accuracy_callback.class_history[:-1]):\n",
        "  z[Y_VALUE[k]]=h\n",
        "history_big = dict(history.history)\n",
        "history_big.update(z)\n",
        "plot(history_big)"
      ],
      "execution_count": null,
      "outputs": [
        {
          "output_type": "error",
          "ename": "NameError",
          "evalue": "ignored",
          "traceback": [
            "\u001b[0;31m---------------------------------------------------------------------------\u001b[0m",
            "\u001b[0;31mNameError\u001b[0m                                 Traceback (most recent call last)",
            "\u001b[0;32m<ipython-input-29-07cdeba6aaaa>\u001b[0m in \u001b[0;36m<module>\u001b[0;34m()\u001b[0m\n\u001b[1;32m      4\u001b[0m \u001b[0;32mfor\u001b[0m \u001b[0mk\u001b[0m\u001b[0;34m,\u001b[0m\u001b[0mh\u001b[0m \u001b[0;32min\u001b[0m \u001b[0menumerate\u001b[0m\u001b[0;34m(\u001b[0m\u001b[0maccuracy_callback\u001b[0m\u001b[0;34m.\u001b[0m\u001b[0mclass_history\u001b[0m\u001b[0;34m[\u001b[0m\u001b[0;34m:\u001b[0m\u001b[0;34m-\u001b[0m\u001b[0;36m1\u001b[0m\u001b[0;34m]\u001b[0m\u001b[0;34m)\u001b[0m\u001b[0;34m:\u001b[0m\u001b[0;34m\u001b[0m\u001b[0;34m\u001b[0m\u001b[0m\n\u001b[1;32m      5\u001b[0m   \u001b[0mz\u001b[0m\u001b[0;34m[\u001b[0m\u001b[0mY_VALUE\u001b[0m\u001b[0;34m[\u001b[0m\u001b[0mk\u001b[0m\u001b[0;34m]\u001b[0m\u001b[0;34m]\u001b[0m\u001b[0;34m=\u001b[0m\u001b[0mh\u001b[0m\u001b[0;34m\u001b[0m\u001b[0;34m\u001b[0m\u001b[0m\n\u001b[0;32m----> 6\u001b[0;31m \u001b[0mhistory_big\u001b[0m \u001b[0;34m=\u001b[0m \u001b[0mdict\u001b[0m\u001b[0;34m(\u001b[0m\u001b[0mhistory\u001b[0m\u001b[0;34m.\u001b[0m\u001b[0mhistory\u001b[0m\u001b[0;34m)\u001b[0m\u001b[0;34m\u001b[0m\u001b[0;34m\u001b[0m\u001b[0m\n\u001b[0m\u001b[1;32m      7\u001b[0m \u001b[0mhistory_big\u001b[0m\u001b[0;34m.\u001b[0m\u001b[0mupdate\u001b[0m\u001b[0;34m(\u001b[0m\u001b[0mz\u001b[0m\u001b[0;34m)\u001b[0m\u001b[0;34m\u001b[0m\u001b[0;34m\u001b[0m\u001b[0m\n\u001b[1;32m      8\u001b[0m \u001b[0mplot\u001b[0m\u001b[0;34m(\u001b[0m\u001b[0mhistory_big\u001b[0m\u001b[0;34m)\u001b[0m\u001b[0;34m\u001b[0m\u001b[0;34m\u001b[0m\u001b[0m\n",
            "\u001b[0;31mNameError\u001b[0m: name 'history' is not defined"
          ]
        }
      ]
    },
    {
      "cell_type": "markdown",
      "metadata": {
        "id": "lW4oXGvLOD55"
      },
      "source": [
        "#test model\n"
      ]
    },
    {
      "cell_type": "code",
      "metadata": {
        "id": "zSMjVbKWqrF3"
      },
      "source": [
        "def plot(history):\n",
        "  fig, axs = plt.subplots(len(history)-len([ v for k,v in history.items() if 'val' in k]))\n",
        "  fig.set_size_inches(18.5, 15.5)\n",
        "  z=0\n",
        "  for k in range(len(history)):\n",
        "      key=list(history.keys())[k]\n",
        "      if not \"val_\" in key:\n",
        "        \n",
        "        axs[z].plot(history[key], label=key)\n",
        "        axs[z].legend(bbox_to_anchor=(1, 1), loc='upper left',)\n",
        "        if \"val_\"+key in history:\n",
        "          axs[z].plot(history[\"val_\"+key], label=\"val_\"+key)\n",
        "          axs[z].legend(bbox_to_anchor=(1, 1), loc='upper left',)\n",
        "        z=z+1\n",
        "  "
      ],
      "execution_count": null,
      "outputs": []
    },
    {
      "cell_type": "code",
      "metadata": {
        "colab": {
          "base_uri": "https://localhost:8080/"
        },
        "id": "p1x78wO_BmCW",
        "outputId": "1cb9604b-09d7-4757-bc9c-2c983eafd812"
      },
      "source": [
        "print(Y_VALUE_LOOKUP)"
      ],
      "execution_count": null,
      "outputs": [
        {
          "output_type": "stream",
          "text": [
            "{'coffee machine': 0, 'oven': 1, 'other': 2}\n"
          ],
          "name": "stdout"
        }
      ]
    },
    {
      "cell_type": "code",
      "metadata": {
        "id": "YOOEc18wrNn1",
        "colab": {
          "base_uri": "https://localhost:8080/"
        },
        "outputId": "e725f3b2-99de-4bb6-a1f5-f7c86d637cdd"
      },
      "source": [
        "_, sequence = processSample({\n",
        "    \"text\": \"halte für 10 min bitte mein essen warm\",\n",
        "    \"device\":\"coffee machine\"\n",
        "})\n",
        "print(sequence)\n",
        "prediction=model.predict(sequence.reshape((1,data[\"x\"][\"maxword_length\"],data[\"x\"][\"input_vector_length\"])))\n",
        "print(prediction)\n",
        "print(\"predicted: \", data[\"y\"][\"elements\"][np.argmax(prediction)],\" | \", np.round(np.max(prediction),4))"
      ],
      "execution_count": null,
      "outputs": [
        {
          "output_type": "stream",
          "text": [
            "[[ 2.22169995  0.5345     -1.22259998 ...  0.          1.\n",
            "   0.        ]\n",
            " [ 1.73389995 -4.17059994  0.20804    ...  0.          1.\n",
            "   0.        ]\n",
            " [ 1.74520004 -1.99860001  0.051256   ...  0.          1.\n",
            "   0.        ]\n",
            " ...\n",
            " [ 0.          0.          0.         ...  0.          0.\n",
            "   0.        ]\n",
            " [ 0.          0.          0.         ...  0.          0.\n",
            "   0.        ]\n",
            " [ 0.          0.          0.         ...  0.          0.\n",
            "   0.        ]]\n",
            "[[5.6928907e-06 5.8005995e-04 3.6972084e-05 1.6289288e-03 2.3584002e-05\n",
            "  7.2042138e-04 1.8706374e-06 2.7214803e-03 1.3203286e-05 1.2694033e-02\n",
            "  7.2753173e-05 2.5007583e-04 2.7952410e-04 1.6398200e-04 2.3260254e-05\n",
            "  3.9280047e-05 9.8055500e-01 1.8987409e-04]]\n",
            "predicted:  keepwarm  |  0.9806\n"
          ],
          "name": "stdout"
        }
      ]
    },
    {
      "cell_type": "code",
      "metadata": {
        "colab": {
          "base_uri": "https://localhost:8080/",
          "height": 39
        },
        "id": "aMfCbqzyDLoM",
        "outputId": "d58c9882-ae80-4693-a7f9-ae2501f55cfe"
      },
      "source": [
        "check(spacy.__version__)"
      ],
      "execution_count": null,
      "outputs": [
        {
          "output_type": "execute_result",
          "data": {
            "application/vnd.google.colaboratory.intrinsic+json": {
              "type": "string"
            },
            "text/plain": [
              "'2.3.5'"
            ]
          },
          "metadata": {
            "tags": []
          },
          "execution_count": 64
        }
      ]
    },
    {
      "cell_type": "markdown",
      "metadata": {
        "id": "ST-bVC3iOAas"
      },
      "source": [
        "#save model"
      ]
    },
    {
      "cell_type": "code",
      "metadata": {
        "id": "P_J-My5lUJxx",
        "colab": {
          "base_uri": "https://localhost:8080/"
        },
        "outputId": "3a24025d-0abb-4801-d2b1-479d9f278999"
      },
      "source": [
        "model_json = model.to_json()\n",
        "with open(\"model.json\", \"w\") as json_file:\n",
        "    json_file.write(model_json)\n",
        "model_weights=model.get_weights()\n",
        "np.save('model_weights.npy', model_weights)"
      ],
      "execution_count": null,
      "outputs": [
        {
          "output_type": "stream",
          "text": [
            "/usr/local/lib/python3.6/dist-packages/numpy/core/_asarray.py:136: VisibleDeprecationWarning: Creating an ndarray from ragged nested sequences (which is a list-or-tuple of lists-or-tuples-or ndarrays with different lengths or shapes) is deprecated. If you meant to do this, you must specify 'dtype=object' when creating the ndarray\n",
            "  return array(a, dtype, copy=False, order=order, subok=True)\n"
          ],
          "name": "stderr"
        }
      ]
    },
    {
      "cell_type": "code",
      "metadata": {
        "id": "6EF8lgIeD8t-"
      },
      "source": [
        ""
      ],
      "execution_count": null,
      "outputs": []
    }
  ]
}