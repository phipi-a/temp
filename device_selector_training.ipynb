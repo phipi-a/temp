{
  "nbformat": 4,
  "nbformat_minor": 0,
  "metadata": {
    "colab": {
      "name": "device_selector_training.ipynb",
      "provenance": [],
      "collapsed_sections": [],
      "mount_file_id": "1v0FZeViCMD-p5z7UypqyOidXb2u_ug0o",
      "authorship_tag": "ABX9TyPbxdBLLuF8DDL2gmhFWSIa",
      "include_colab_link": true
    },
    "kernelspec": {
      "name": "python3",
      "display_name": "Python 3"
    }
  },
  "cells": [
    {
      "cell_type": "markdown",
      "metadata": {
        "id": "view-in-github",
        "colab_type": "text"
      },
      "source": [
        "<a href=\"https://colab.research.google.com/github/phipi-a/temp/blob/master/device_selector_training.ipynb\" target=\"_parent\"><img src=\"https://colab.research.google.com/assets/colab-badge.svg\" alt=\"Open In Colab\"/></a>"
      ]
    },
    {
      "cell_type": "markdown",
      "metadata": {
        "id": "Zq3EFiNnOr7z"
      },
      "source": [
        "#import, load spacy model"
      ]
    },
    {
      "cell_type": "code",
      "metadata": {
        "id": "KE7k7ImNMpw-",
        "colab": {
          "base_uri": "https://localhost:8080/"
        },
        "outputId": "b2abb978-4db8-4a90-dbba-f6cf733fbe59"
      },
      "source": [
        "!pip install spacy==2.3.5"
      ],
      "execution_count": null,
      "outputs": [
        {
          "output_type": "stream",
          "text": [
            "Collecting spacy==2.3.5\n",
            "\u001b[?25l  Downloading https://files.pythonhosted.org/packages/e5/bf/ca7bb25edd21f1cf9d498d0023808279672a664a70585e1962617ca2740c/spacy-2.3.5-cp36-cp36m-manylinux2014_x86_64.whl (10.4MB)\n",
            "\u001b[K     |████████████████████████████████| 10.4MB 4.0MB/s \n",
            "\u001b[?25hRequirement already satisfied: cymem<2.1.0,>=2.0.2 in /usr/local/lib/python3.6/dist-packages (from spacy==2.3.5) (2.0.5)\n",
            "Requirement already satisfied: srsly<1.1.0,>=1.0.2 in /usr/local/lib/python3.6/dist-packages (from spacy==2.3.5) (1.0.5)\n",
            "Requirement already satisfied: catalogue<1.1.0,>=0.0.7 in /usr/local/lib/python3.6/dist-packages (from spacy==2.3.5) (1.0.0)\n",
            "Requirement already satisfied: setuptools in /usr/local/lib/python3.6/dist-packages (from spacy==2.3.5) (51.3.3)\n",
            "Collecting thinc<7.5.0,>=7.4.1\n",
            "\u001b[?25l  Downloading https://files.pythonhosted.org/packages/c0/1a/c3e4ab982214c63d743fad57c45c5e68ee49e4ea4384d27b28595a26ad26/thinc-7.4.5-cp36-cp36m-manylinux2014_x86_64.whl (1.1MB)\n",
            "\u001b[K     |████████████████████████████████| 1.1MB 26.6MB/s \n",
            "\u001b[?25hRequirement already satisfied: numpy>=1.15.0 in /usr/local/lib/python3.6/dist-packages (from spacy==2.3.5) (1.19.5)\n",
            "Requirement already satisfied: murmurhash<1.1.0,>=0.28.0 in /usr/local/lib/python3.6/dist-packages (from spacy==2.3.5) (1.0.5)\n",
            "Requirement already satisfied: preshed<3.1.0,>=3.0.2 in /usr/local/lib/python3.6/dist-packages (from spacy==2.3.5) (3.0.5)\n",
            "Requirement already satisfied: tqdm<5.0.0,>=4.38.0 in /usr/local/lib/python3.6/dist-packages (from spacy==2.3.5) (4.41.1)\n",
            "Requirement already satisfied: plac<1.2.0,>=0.9.6 in /usr/local/lib/python3.6/dist-packages (from spacy==2.3.5) (1.1.3)\n",
            "Requirement already satisfied: requests<3.0.0,>=2.13.0 in /usr/local/lib/python3.6/dist-packages (from spacy==2.3.5) (2.23.0)\n",
            "Requirement already satisfied: wasabi<1.1.0,>=0.4.0 in /usr/local/lib/python3.6/dist-packages (from spacy==2.3.5) (0.8.0)\n",
            "Requirement already satisfied: blis<0.8.0,>=0.4.0 in /usr/local/lib/python3.6/dist-packages (from spacy==2.3.5) (0.4.1)\n",
            "Requirement already satisfied: importlib-metadata>=0.20; python_version < \"3.8\" in /usr/local/lib/python3.6/dist-packages (from catalogue<1.1.0,>=0.0.7->spacy==2.3.5) (3.3.0)\n",
            "Requirement already satisfied: certifi>=2017.4.17 in /usr/local/lib/python3.6/dist-packages (from requests<3.0.0,>=2.13.0->spacy==2.3.5) (2020.12.5)\n",
            "Requirement already satisfied: chardet<4,>=3.0.2 in /usr/local/lib/python3.6/dist-packages (from requests<3.0.0,>=2.13.0->spacy==2.3.5) (3.0.4)\n",
            "Requirement already satisfied: urllib3!=1.25.0,!=1.25.1,<1.26,>=1.21.1 in /usr/local/lib/python3.6/dist-packages (from requests<3.0.0,>=2.13.0->spacy==2.3.5) (1.24.3)\n",
            "Requirement already satisfied: idna<3,>=2.5 in /usr/local/lib/python3.6/dist-packages (from requests<3.0.0,>=2.13.0->spacy==2.3.5) (2.10)\n",
            "Requirement already satisfied: zipp>=0.5 in /usr/local/lib/python3.6/dist-packages (from importlib-metadata>=0.20; python_version < \"3.8\"->catalogue<1.1.0,>=0.0.7->spacy==2.3.5) (3.4.0)\n",
            "Requirement already satisfied: typing-extensions>=3.6.4; python_version < \"3.8\" in /usr/local/lib/python3.6/dist-packages (from importlib-metadata>=0.20; python_version < \"3.8\"->catalogue<1.1.0,>=0.0.7->spacy==2.3.5) (3.7.4.3)\n",
            "Installing collected packages: thinc, spacy\n",
            "  Found existing installation: thinc 7.4.0\n",
            "    Uninstalling thinc-7.4.0:\n",
            "      Successfully uninstalled thinc-7.4.0\n",
            "  Found existing installation: spacy 2.2.4\n",
            "    Uninstalling spacy-2.2.4:\n",
            "      Successfully uninstalled spacy-2.2.4\n",
            "Successfully installed spacy-2.3.5 thinc-7.4.5\n"
          ],
          "name": "stdout"
        }
      ]
    },
    {
      "cell_type": "code",
      "metadata": {
        "id": "qpKy1hioUU3W"
      },
      "source": [
        "import numpy as np\n",
        "import matplotlib.pyplot as plt\n",
        "from tensorflow.keras.models import Sequential\n",
        "from tensorflow.keras.layers import LSTM, Dense, Conv1D, GlobalMaxPooling1D, Dropout, Input, MaxPooling1D, Flatten, Bidirectional, GRU, BatchNormalization ,SimpleRNN, RNN\n",
        "from tensorflow.keras.optimizers import Adam\n",
        "from tensorflow.keras.utils import plot_model, to_categorical\n",
        "from tensorflow.keras import losses\n",
        "from tensorflow.keras import backend as K\n",
        "import spacy\n",
        "from tensorflow import keras\n",
        "import tensorflow as tf\n",
        "import random\n",
        "import json\n",
        "import sys\n"
      ],
      "execution_count": null,
      "outputs": []
    },
    {
      "cell_type": "code",
      "metadata": {
        "id": "7QAEIT1CLxoU",
        "colab": {
          "base_uri": "https://localhost:8080/"
        },
        "outputId": "70cb38bd-4861-46e2-841a-7dce1b1fafe7"
      },
      "source": [
        "try:\n",
        "    nlp_german = spacy.load('de_core_news_lg')\n",
        "except OSError:\n",
        "    print('Downloading language model\\n')\n",
        "    from spacy.cli import download\n",
        "    download('de_core_news_lg')\n",
        "    nlp_german = spacy.load('de_core_news_lg')"
      ],
      "execution_count": null,
      "outputs": [
        {
          "output_type": "stream",
          "text": [
            "Downloading language model\n",
            "\n",
            "\u001b[38;5;2m✔ Download and installation successful\u001b[0m\n",
            "You can now load the model via spacy.load('de_core_news_lg')\n"
          ],
          "name": "stdout"
        }
      ]
    },
    {
      "cell_type": "markdown",
      "metadata": {
        "id": "haCGArAINT-8"
      },
      "source": [
        "#Definitions"
      ]
    },
    {
      "cell_type": "code",
      "metadata": {
        "id": "5cDTUv00TbSS"
      },
      "source": [
        "def listToIndexLookup(actions):\n",
        "    ret = {}\n",
        "    for idx, action in enumerate(actions):\n",
        "        ret[action] = idx\n",
        "    return ret\n",
        "\n",
        "MAX_TEXT_LENGTH = 20\n",
        "VECTOR_LENGTH = 300\n",
        "\n",
        "FORBIDDEN_POS = [\"PUNCT\", \"SYM\", \"NUM\", \"SPACE\", \"DET\"]\n",
        "POS = [\n",
        "  \"ADJ\",\n",
        "  \"ADP\",\n",
        "  \"ADV\",\n",
        "  \"AUX\",\n",
        "  \"CONJ\",\n",
        "  \"CCONJ\",\n",
        "  \"DET\",\n",
        "  \"INTJ\",\n",
        "  \"NOUN\",\n",
        "  \"NUM\",\n",
        "  \"PART\",\n",
        "  \"PRON\",\n",
        "  \"PROPN\",\n",
        "  \"SCONJ\",\n",
        "  \"VERB\",\n",
        "  \"X\",\n",
        "  \"SPACE\"\n",
        "]\n",
        "POS_LOOKUP = listToIndexLookup(POS)\n",
        "POS_LENGTH = len(POS)\n",
        "\n",
        "DEVICES = [\"coffee_machine\", \"oven\", \"other\"]\n",
        "DEVICE_LOOKUP = listToIndexLookup(DEVICES)\n",
        "DEVICES_LENGTH = len(DEVICES)\n",
        "\n",
        "LENGTH = VECTOR_LENGTH + POS_LENGTH\n"
      ],
      "execution_count": null,
      "outputs": []
    },
    {
      "cell_type": "code",
      "metadata": {
        "id": "1XDgdQ-Zw8aJ"
      },
      "source": [
        "def getClassWeights(y):\n",
        "  ret = {}\n",
        "  for device in DEVICES:\n",
        "    i = DEVICE_LOOKUP[device]\n",
        "    ret[i] = 1 - (np.count_nonzero(y == i) / len(y))\n",
        "  return ret\n"
      ],
      "execution_count": null,
      "outputs": []
    },
    {
      "cell_type": "code",
      "metadata": {
        "id": "zSMjVbKWqrF3"
      },
      "source": [
        "def plot(history):\n",
        "  fig, axs = plt.subplots(len(history)-len([ v for k,v in history.items() if 'val' in k]))\n",
        "  z=0\n",
        "  for k in range(len(history)):\n",
        "      key=list(history.keys())[k]\n",
        "      if not \"val_\" in key:\n",
        "        \n",
        "        axs[z].plot(history[key], label=key)\n",
        "        axs[z].legend(bbox_to_anchor=(1, 1), loc='upper left',)\n",
        "        if \"val_\"+key in history:\n",
        "          axs[z].plot(history[\"val_\"+key], label=\"val_\"+key)\n",
        "          axs[z].legend(bbox_to_anchor=(1, 1), loc='upper left',)\n",
        "        z=z+1\n",
        "  "
      ],
      "execution_count": null,
      "outputs": []
    },
    {
      "cell_type": "code",
      "metadata": {
        "id": "ykFxl5KpuQTe"
      },
      "source": [
        "# your class labels\n",
        "classes = DEVICES\n",
        "\n",
        "class AccuracyCallback(tf.keras.callbacks.Callback):\n",
        "\n",
        "    def __init__(self, test_data):\n",
        "        self.test_data = test_data\n",
        "        self.class_history = list()\n",
        "        for i in classes:\n",
        "           self.class_history.append(list())\n",
        "\n",
        "    def on_epoch_end(self, epoch, logs=None):\n",
        "        x_data, y_data = self.test_data\n",
        "\n",
        "        correct = 0\n",
        "        incorrect = 0\n",
        "\n",
        "        x_result = self.model.predict(x_data, verbose=0)\n",
        "\n",
        "        x_numpy = []\n",
        "\n",
        "        class_correct = [0] * len(classes)\n",
        "        class_incorrect = [0] * len(classes)\n",
        "\n",
        "        for i in range(len(x_data)):\n",
        "            x = x_data[i]\n",
        "            y = y_data[i]\n",
        "\n",
        "            res = x_result[i]\n",
        "\n",
        "            actual_label = np.argmax(y)\n",
        "            pred_label = np.argmax(res)\n",
        "\n",
        "            if(pred_label == actual_label):\n",
        "                x_numpy.append([\"cor:\", str(y), str(res), str(pred_label)])     \n",
        "                class_correct[actual_label] += 1   \n",
        "                correct += 1\n",
        "            else:\n",
        "                x_numpy.append([\"inc:\", str(y), str(res), str(pred_label)])\n",
        "                class_incorrect[actual_label] += 1\n",
        "                incorrect += 1\n",
        "\n",
        "        print(\"\\tCorrect: %d\" %(correct))\n",
        "        print(\"\\tIncorrect: %d\" %(incorrect))\n",
        "\n",
        "        for i in range(len(classes)):\n",
        "            tot = float(class_correct[i] + class_incorrect[i])\n",
        "            class_acc = -1\n",
        "            if (tot > 0):\n",
        "                class_acc = float(class_correct[i]) / tot\n",
        "            self.class_history[i].append(class_acc)\n",
        "            print(\"\\t%s: %.3f\" %(classes[i],class_acc)) \n",
        "\n",
        "        acc = float(correct) / float(correct + incorrect)  \n",
        "\n",
        "        print(\"\\tCurrent Network Accuracy: %.3f\" %(acc))"
      ],
      "execution_count": null,
      "outputs": []
    },
    {
      "cell_type": "code",
      "metadata": {
        "id": "XgSGWjjSspeq"
      },
      "source": [
        "def split_dataset(x,y,train_split):\n",
        "  values=list(zip(x, y))\n",
        "  class0=list()\n",
        "  class1=list()\n",
        "  class2=list()\n",
        "  for index in range(len(x)):\n",
        "    if np.all(y[index]==[1,0,0]):\n",
        "      class0.append(values[index])\n",
        "    elif np.all(y[index]==[0,1,0]):\n",
        "      class1.append(values[index])\n",
        "    elif np.all(y[index]==[0,0,1]):\n",
        "      class2.append(values[index])\n",
        "  class_weight = {\n",
        "                0: int(len(class0)*train_split),\n",
        "                1: int(len(class1)*train_split),\n",
        "                2: int(len(class2)*train_split)}\n",
        "  test=class0[:class_weight[0]]+class1[:class_weight[1]]+class2[:class_weight[2]]\n",
        "  train=class0[class_weight[0]:]+class1[class_weight[1]:]+class2[class_weight[2]:]\n",
        "\n",
        "  print(\"train:\",len(train))\n",
        "  print(\"test:\",len(test))\n",
        "  trainx=[ a for a,b in train ]\n",
        "  trainy=[ b for a,b in train ]\n",
        "  testx=[ a for a,b in test ]\n",
        "  testy=[ b for a,b in test ]\n",
        "  return trainx ,trainy, testx , testy\n"
      ],
      "execution_count": null,
      "outputs": []
    },
    {
      "cell_type": "markdown",
      "metadata": {
        "id": "Noncfr3VOc6z"
      },
      "source": [
        "##data preprocessing"
      ]
    },
    {
      "cell_type": "code",
      "metadata": {
        "id": "6AORqEESDgFg"
      },
      "source": [
        "def processSample(sample):\n",
        "    doc = nlp_german(sample[\"text\"])\n",
        "\n",
        "    if len(doc) > MAX_TEXT_LENGTH:\n",
        "        return False, None, None\n",
        "\n",
        "    sample_x = np.empty(shape=[0, LENGTH])\n",
        "    for tag in doc:\n",
        "        if tag.pos_ in FORBIDDEN_POS:\n",
        "            continue\n",
        "\n",
        "        lemma_tag = nlp_german(tag.lemma_.lower())[0]\n",
        "\n",
        "        pos = to_categorical(POS_LOOKUP[tag.pos_], POS_LENGTH)\n",
        "\n",
        "        t = np.concatenate([lemma_tag.vector, pos])\n",
        "        sample_x = np.append(sample_x, [t], axis=0)\n",
        "\n",
        "    # fill up rest\n",
        "    while len(sample_x) < MAX_TEXT_LENGTH:\n",
        "        sample_x = np.append(sample_x, [np.zeros(LENGTH)], axis=0)\n",
        "    device_label_keyword=\"label\"\n",
        "    device=None\n",
        "    if device_label_keyword in sample.keys():\n",
        "      device=DEVICE_LOOKUP[sample[\"label\"]]\n",
        "    return True, sample_x, device"
      ],
      "execution_count": null,
      "outputs": []
    },
    {
      "cell_type": "markdown",
      "metadata": {
        "id": "_Q3LlINMNjuA"
      },
      "source": [
        "#load data"
      ]
    },
    {
      "cell_type": "code",
      "metadata": {
        "id": "U-Ti0ST2NQ4d"
      },
      "source": [
        "Xdata = np.load(\"drive/MyDrive/data_spacy_lg_lower/x_data.npy\")\n",
        "Ydata=np.load(\"drive/MyDrive/data_spacy_lg_lower/y_data.npy\")"
      ],
      "execution_count": null,
      "outputs": []
    },
    {
      "cell_type": "code",
      "metadata": {
        "colab": {
          "base_uri": "https://localhost:8080/"
        },
        "id": "-FHw9jvaveSM",
        "outputId": "11051192-6337-4343-b9d2-75605ab16e47"
      },
      "source": [
        "print(\"Xdata.shape:\",Xdata.shape)\n",
        "print(\"Ydata.shape:\",Ydata.shape)\n",
        "i=1001\n",
        "print(\"Xdata value:\",Xdata[i][0])\n",
        "print(\"Ydata value:\",Ydata[i])"
      ],
      "execution_count": null,
      "outputs": [
        {
          "output_type": "stream",
          "text": [
            "Xdata.shape: (49808, 20, 317)\n",
            "Ydata.shape: (49808,)\n",
            "Xdata value: [ 1.79799998 -0.63002998 -3.25970006 -1.11240005 -0.95103002 -0.69309002\n",
            " -2.83260012 -1.76610005 -2.43249989  4.41209984 -3.18099999 -1.67470002\n",
            "  0.062507    5.03859997 -1.6221      2.65289998 -1.31599998 -2.0466001\n",
            " -0.65482002  0.99071997  0.53116    -0.74605     1.92620003 -1.26419997\n",
            "  0.55897999 -2.51049995 -2.87450004 -1.17709994  1.22510004  1.95669997\n",
            "  2.23900008  2.83170009 -1.54120004 -3.64989996  3.23029995 -2.33389997\n",
            " -0.3721     -0.093577    2.16280007  1.29170001 -0.92509001 -0.45644999\n",
            " -1.36479998  1.06949997  1.77740002 -0.87687999  1.57560003 -1.41180003\n",
            " -1.17060006  1.04700005  2.61730003  3.33850002  3.92470002 -1.80480003\n",
            " -3.87479997  2.41759992  1.33290005  0.24474999  6.70050001  1.12199998\n",
            "  3.01209998 -2.43099999  0.91136998  1.10259998 -2.16599989 -0.60070002\n",
            "  0.71731001 -3.22280002  1.63789999 -1.07439995  3.4203999   0.30465999\n",
            "  3.52880001 -0.79956001  6.30770016 -3.3276      2.4052999   1.50370002\n",
            "  3.2111001   3.32410002 -1.20109999 -1.36969995  3.83290005 -2.63630009\n",
            " -1.75179994 -2.3592      2.45810008  1.47969997 -4.72550011  1.09899998\n",
            "  4.08069992 -1.99440002 -1.83630002 -1.32280004 -3.05990005 -0.12689\n",
            "  0.23452     0.14405     0.57002997  0.34472001  1.10689998  3.56820011\n",
            " -1.67110002  4.70340014 -1.08060002 -0.47135001 -5.60860014  0.31053999\n",
            " -1.23430002 -2.8901      2.06069994  3.24000001 -3.70289993  2.25309992\n",
            "  1.04460001 -0.29561999  1.72160006  0.16361    -3.88709998  3.14660001\n",
            "  6.87169981 -1.2665     -2.26600003  0.10489     0.59876001  1.90760005\n",
            "  0.42041001 -2.23950005 -6.87809992  0.19199    -2.22199988  3.4144001\n",
            " -1.38789999  1.32420003  5.48010015  0.63998002 -5.07289982  1.5345\n",
            " -1.99479997  0.57450998  1.88820004 -4.69119978 -0.69858003  0.16723\n",
            " -0.82867998  2.64610004 -0.087212   -2.69429994 -1.35940003  1.08829999\n",
            "  2.37529993  0.40346    -0.77089     1.31500006  5.00689983 -1.98660004\n",
            "  1.17910004  1.94640005  0.82467002  4.47609997 -1.29579997 -0.43592\n",
            " -0.15335999  2.54130006  0.36023    -0.085442   -0.95025003  1.55470002\n",
            "  5.12669992  3.55340004  2.21280003  3.46810007 -2.77410007  2.05029988\n",
            "  1.78610003  2.05100012  3.20720005  0.75576001  6.53200006  3.73740005\n",
            "  1.43949997 -2.38560009  1.47759998  0.78477001 -2.22359991 -4.30480003\n",
            " -2.96289992  0.16227999 -1.03610003  1.96780002 -4.60220003 -1.71580005\n",
            "  0.3134      0.011773   -2.55180001 -0.86751002 -1.20050001 -8.56330013\n",
            " -0.24247    -3.19939995  2.62120008 -0.53365999 -1.32889998 -0.77699\n",
            " -1.02680004  0.23061    -0.80822003  2.46079993 -4.09749985  1.79519999\n",
            " -2.76799989  1.98720002  2.9855001  -1.51929998 -1.6401     -5.23969984\n",
            " -1.03289998 -3.00020003  3.26340008 -7.89769983  3.2887001  -1.47549999\n",
            "  5.5323     -0.45067999  4.52180004 -1.20630002  2.16190004  1.04779994\n",
            "  0.10034     2.23639989  0.5115     -3.73990011  0.075196    1.38950002\n",
            " -0.20100001 -1.61950004  2.6724     -1.22930002  3.50259995 -5.17229986\n",
            "  3.46320009  3.88899994  2.85640001  3.09520006 -1.45809996  0.61535001\n",
            "  0.96862     3.94650006 -3.4440999  -1.59039998 -0.34527001 -1.65460002\n",
            "  1.43169999  2.05419993 -0.88322997  1.07490003 -0.71250999 -0.43538001\n",
            " -5.28800011 -1.08780003 -5.97809982 -0.21848001 -3.55069995 -1.8168\n",
            " -3.60759997  1.94410002  4.72370005  1.86249995  0.82424998  0.11141\n",
            "  0.75700998 -1.73290002 -0.34782001  0.74338001  5.2986002   1.32480001\n",
            "  0.31819001  1.86530006  1.62559998  1.2529      0.71039999  0.58383\n",
            " -5.4368      4.60599995 -2.43709993 -0.65077001  2.03049994 -0.74576002\n",
            "  4.41489983  3.39439988 -0.16839001  2.92219996 -0.40481001 -0.87497002\n",
            "  4.27470016  0.29159999 -2.73889995 -3.84159994  2.98790002 -0.87027001\n",
            "  0.          0.          0.          0.          0.          0.\n",
            "  0.          0.          0.          0.          0.          0.\n",
            "  0.          0.          1.          0.          0.        ]\n",
            "Ydata value: 1.0\n"
          ],
          "name": "stdout"
        }
      ]
    },
    {
      "cell_type": "markdown",
      "metadata": {
        "id": "z_uvwkRvNoqP"
      },
      "source": [
        "#prepare training"
      ]
    },
    {
      "cell_type": "code",
      "metadata": {
        "id": "l9xDHaShCOhf",
        "colab": {
          "base_uri": "https://localhost:8080/"
        },
        "outputId": "bfdfaa34-6fcd-4280-ef1f-c267369f5d92"
      },
      "source": [
        "class_weight = {0: (1-(np.count_nonzero(Ydata == 0)/len(Ydata))),\n",
        "                1: (1-(np.count_nonzero(Ydata == 1)/len(Ydata))),\n",
        "                2: (1-(np.count_nonzero(Ydata == 2)/len(Ydata)))}\n",
        "print(class_weight)"
      ],
      "execution_count": null,
      "outputs": [
        {
          "output_type": "stream",
          "text": [
            "{0: 0.6176517828461292, 1: 0.6132950530035335, 2: 0.7690531641503373}\n"
          ],
          "name": "stdout"
        }
      ]
    },
    {
      "cell_type": "markdown",
      "metadata": {
        "id": "Gzd-U0vlPclt"
      },
      "source": [
        "###shuffle data"
      ]
    },
    {
      "cell_type": "code",
      "metadata": {
        "id": "KpCJdynnIV2t"
      },
      "source": [
        "indices = np.arange(Xdata.shape[0])\n",
        "np.random.shuffle(indices)\n",
        "Xdata = Xdata[indices]\n",
        "Ydata = Ydata[indices]"
      ],
      "execution_count": null,
      "outputs": []
    },
    {
      "cell_type": "markdown",
      "metadata": {
        "id": "0k59KGJkPkxi"
      },
      "source": [
        "###to_categorical train-test split"
      ]
    },
    {
      "cell_type": "code",
      "metadata": {
        "id": "zRy2_1YyzxT2",
        "colab": {
          "base_uri": "https://localhost:8080/"
        },
        "outputId": "73cd6365-4339-4097-d2e3-87c0db4b9b57"
      },
      "source": [
        "i=100\n",
        "print(\"Ydata value: \",Ydata[i])\n",
        "Y_cat=to_categorical(Ydata, 3)\n",
        "print(\"Ydata to_categorical value: \",Y_cat[i])\n",
        "trainx,trainy,testx,testy=split_dataset(Xdata,Y_cat,0.3)"
      ],
      "execution_count": null,
      "outputs": [
        {
          "output_type": "stream",
          "text": [
            "Ydata value:  1.0\n",
            "Ydata to_categorical value:  [0. 1. 0.]\n",
            "train: 34867\n",
            "test: 14941\n"
          ],
          "name": "stdout"
        }
      ]
    },
    {
      "cell_type": "markdown",
      "metadata": {
        "id": "dQpEZXqNNys6"
      },
      "source": [
        "#Define Model"
      ]
    },
    {
      "cell_type": "code",
      "metadata": {
        "id": "tuL_ZPENhH2w",
        "colab": {
          "base_uri": "https://localhost:8080/",
          "height": 663
        },
        "outputId": "3668955e-e635-416d-a791-91c11c349ea7"
      },
      "source": [
        "model = Sequential()\n",
        "model.add(Input(shape=(20, 300+17)))\n",
        "model.add(Bidirectional(GRU(20,return_sequences=True,dropout=0.2)))\n",
        "model.add(Bidirectional(LSTM(20,dropout=0.2)))\n",
        "model.add(Dense(3,activation=\"softmax\"))\n",
        "model.build()\n",
        "model.compile(\n",
        "    optimizer=Adam(),\n",
        "    loss=losses.categorical_crossentropy,metrics=['accuracy'])\n",
        " \n",
        "model.summary()\n",
        "plot_model(model)"
      ],
      "execution_count": null,
      "outputs": [
        {
          "output_type": "stream",
          "text": [
            "Model: \"sequential_1\"\n",
            "_________________________________________________________________\n",
            "Layer (type)                 Output Shape              Param #   \n",
            "=================================================================\n",
            "bidirectional_2 (Bidirection (None, 20, 40)            40680     \n",
            "_________________________________________________________________\n",
            "bidirectional_3 (Bidirection (None, 40)                9760      \n",
            "_________________________________________________________________\n",
            "dense_1 (Dense)              (None, 3)                 123       \n",
            "=================================================================\n",
            "Total params: 50,563\n",
            "Trainable params: 50,563\n",
            "Non-trainable params: 0\n",
            "_________________________________________________________________\n"
          ],
          "name": "stdout"
        },
        {
          "output_type": "execute_result",
          "data": {
            "image/png": "[encoded data removed]",
            "text/plain": [
              "<IPython.core.display.Image object>"
            ]
          },
          "metadata": {
            "tags": []
          },
          "execution_count": 19
        }
      ]
    },
    {
      "cell_type": "markdown",
      "metadata": {
        "id": "p0-cOY3TN2ZX"
      },
      "source": [
        "#Training\n"
      ]
    },
    {
      "cell_type": "code",
      "metadata": {
        "id": "Izcq9yVThRuQ",
        "colab": {
          "base_uri": "https://localhost:8080/"
        },
        "outputId": "e7a5137f-6082-408f-fd75-eda6cde0e6aa"
      },
      "source": [
        "val_data=(np.asarray(testx),np.asarray(testy))\n",
        "accuracy_callback = AccuracyCallback(val_data)\n",
        "history=model.fit(callbacks=[accuracy_callback],x=np.asarray(trainx),y=np.asarray(trainy),batch_size=512,epochs=2,shuffle=True,class_weight=class_weight,validation_data=val_data)"
      ],
      "execution_count": null,
      "outputs": [
        {
          "output_type": "stream",
          "text": [
            "Epoch 1/2\n",
            "69/69 [==============================] - 19s 279ms/step - loss: 0.0303 - accuracy: 0.9847 - val_loss: 0.0381 - val_accuracy: 0.9872\n",
            "\tCorrect: 14750\n",
            "\tIncorrect: 191\n",
            "\tcoffee_machine: 0.988\n",
            "\toven: 0.985\n",
            "\tother: 0.990\n",
            "\tCurrent Network Accuracy: 0.987\n",
            "Epoch 2/2\n",
            "69/69 [==============================] - 19s 271ms/step - loss: 0.0254 - accuracy: 0.9869 - val_loss: 0.0330 - val_accuracy: 0.9893\n",
            "\tCorrect: 14781\n",
            "\tIncorrect: 160\n",
            "\tcoffee_machine: 0.994\n",
            "\toven: 0.984\n",
            "\tother: 0.992\n",
            "\tCurrent Network Accuracy: 0.989\n"
          ],
          "name": "stdout"
        }
      ]
    },
    {
      "cell_type": "code",
      "metadata": {
        "colab": {
          "base_uri": "https://localhost:8080/",
          "height": 265
        },
        "id": "urckMP98C0dN",
        "outputId": "c29baca2-c478-41ff-f7ef-dc0a69fab3be"
      },
      "source": [
        "\n",
        "z={\"coffee_machine\":accuracy_callback.class_history[0],\"oven\":accuracy_callback.class_history[1],\"other\":accuracy_callback.class_history[2]}\n",
        "history_big = dict(history.history)\n",
        "history_big.update(z)\n",
        "plot(history_big)"
      ],
      "execution_count": null,
      "outputs": [
        {
          "output_type": "display_data",
          "data": {
            "image/png": "[encoded data removed]",
            "text/plain": [
              "<Figure size 432x288 with 5 Axes>"
            ]
          },
          "metadata": {
            "tags": [],
            "needs_background": "light"
          }
        }
      ]
    },
    {
      "cell_type": "markdown",
      "metadata": {
        "id": "lW4oXGvLOD55"
      },
      "source": [
        "#test model\n"
      ]
    },
    {
      "cell_type": "code",
      "metadata": {
        "id": "YOOEc18wrNn1",
        "colab": {
          "base_uri": "https://localhost:8080/"
        },
        "outputId": "5a1397aa-0ffd-4ea7-bf56-6c66e917b0d3"
      },
      "source": [
        "_, sequence, _ = processSample({\n",
        "    \"text\": \"kann ich bitte ein Kaffee haben\"\n",
        "})\n",
        "prediction=model.predict(sequence.reshape((1,MAX_TEXT_LENGTH,LENGTH)))\n",
        "print(prediction)\n",
        "print(\"predicted: \", DEVICES[np.argmax(prediction)],\" | \", np.round(np.max(prediction),4))"
      ],
      "execution_count": null,
      "outputs": [
        {
          "output_type": "stream",
          "text": [
            "[[9.9798512e-01 1.6779958e-03 3.3695923e-04]]\n",
            "predicted:  coffee_machine  |  0.998\n"
          ],
          "name": "stdout"
        }
      ]
    },
    {
      "cell_type": "markdown",
      "metadata": {
        "id": "ST-bVC3iOAas"
      },
      "source": [
        "#save model"
      ]
    },
    {
      "cell_type": "code",
      "metadata": {
        "id": "P_J-My5lUJxx",
        "colab": {
          "base_uri": "https://localhost:8080/"
        },
        "outputId": "3ffb8a98-805c-4d52-d2c6-3ba236f7ecbf"
      },
      "source": [
        "model_json = model.to_json()\n",
        "with open(\"model.json\", \"w\") as json_file:\n",
        "    json_file.write(model_json)\n",
        "model_weights=model.get_weights()\n",
        "np.save('model_weights.npy', model_weights)"
      ],
      "execution_count": null,
      "outputs": [
        {
          "output_type": "stream",
          "text": [
            "/usr/local/lib/python3.6/dist-packages/numpy/core/_asarray.py:136: VisibleDeprecationWarning: Creating an ndarray from ragged nested sequences (which is a list-or-tuple of lists-or-tuples-or ndarrays with different lengths or shapes) is deprecated. If you meant to do this, you must specify 'dtype=object' when creating the ndarray\n",
            "  return array(a, dtype, copy=False, order=order, subok=True)\n"
          ],
          "name": "stderr"
        }
      ]
    }
  ]
}